{
 "cells": [
  {
   "cell_type": "markdown",
   "metadata": {},
   "source": [
    "# This notebook is for generating R2RML File from CSV file"
   ]
  },
  {
   "cell_type": "code",
   "execution_count": 2,
   "metadata": {},
   "outputs": [],
   "source": [
    "# !pip install flask\n",
    "import os\n",
    "import psycopg2\n",
    "import ipywidgets as widgets\n",
    "from IPython.display import display\n",
    "from ipywidgets import Layout, Button, Box, interact, interactive, fixed, interact_manual, Checkbox\n",
    "from PIL import Image\n",
    "import pandas as pd\n",
    "from collections import Counter"
   ]
  },
  {
   "cell_type": "code",
   "execution_count": 135,
   "metadata": {},
   "outputs": [
    {
     "name": "stdout",
     "output_type": "stream",
     "text": [
      "The number of variables is  137\n"
     ]
    },
    {
     "name": "stderr",
     "output_type": "stream",
     "text": [
      "/Users/changsun/anaconda3/lib/python3.6/site-packages/IPython/core/interactiveshell.py:2698: DtypeWarning: Columns (1,77) have mixed types. Specify dtype option on import or set low_memory=False.\n",
      "  interactivity=interactivity, compiler=compiler, result=result)\n"
     ]
    }
   ],
   "source": [
    "df=pd.read_csv(\"BLK_earlyLife_agingTrend.csv\", sep=',')\n",
    "print('The number of variables is ', len(df.columns))"
   ]
  },
  {
   "cell_type": "code",
   "execution_count": 136,
   "metadata": {},
   "outputs": [],
   "source": [
    "variables = list(df.columns)\n",
    "varType = list(df.dtypes)"
   ]
  },
  {
   "cell_type": "code",
   "execution_count": 156,
   "metadata": {},
   "outputs": [],
   "source": [
    "tableName = 'EarlyLifeAgeTrend'\n",
    "tableStructure = 'CREATE TABLE %s(' %tableName\n",
    "for i in range(0, len(varType)):\n",
    "    if varType[i] == 'int64':\n",
    "        tempType = 'int'\n",
    "    else:\n",
    "        tempType = 'real'\n",
    "\n",
    "    if str(variables[i]) == 'PRIMARY':\n",
    "        temp = 'PRIMARYSCHOOL'+' '+tempType+','\n",
    "    else:\n",
    "        temp = str(variables[i])+' '+tempType+','\n",
    "    tableStructure = tableStructure + temp \n",
    "tableStructure = tableStructure[:-1] + ')'"
   ]
  },
  {
   "cell_type": "code",
   "execution_count": 157,
   "metadata": {},
   "outputs": [
    {
     "name": "stdout",
     "output_type": "stream",
     "text": [
      "Server Connected!\n",
      "\n",
      "Darling, Table is created for you successfully.\n"
     ]
    }
   ],
   "source": [
    "con = psycopg2.connect(\"host='localhost' dbname='changsun' user='postgres' password='postgres'\") # host='CSdatabase', dbname='postgres'\n",
    "print(\"Server Connected!\\n\")\n",
    "cur = con.cursor()\n",
    "cur.execute(\"DROP TABLE EarlyLifeAgeTrend\")\n",
    "cur.execute(tableStructure)\n",
    "print(\"Darling, Table is created for you successfully.\")"
   ]
  },
  {
   "cell_type": "code",
   "execution_count": 158,
   "metadata": {},
   "outputs": [],
   "source": [
    "# Import CSV Data\n",
    "dataFile = \"BLK_earlyLife_agingTrend.csv\" \n",
    "copy_sql = \"\"\"\n",
    "           COPY %s FROM stdin WITH (FORMAT CSV, HEADER true, NULL '', DELIMITER ',')           \n",
    "           \"\"\" %tableName\n",
    "with open(dataFile, 'r') as f:\n",
    "    cur.copy_expert(sql=copy_sql, file=f)\n",
    "con.commit()\n",
    "# cur.close()"
   ]
  },
  {
   "cell_type": "code",
   "execution_count": 146,
   "metadata": {},
   "outputs": [],
   "source": [
    "# # Import CSV Data\n",
    "# dataFile = \"BLANK_earlyLife_agingTrend.csv\" # 'NLD/REGION_DEMOGR_Mortality.csv'\n",
    "# with open(dataFile, 'r') as f:\n",
    "#     # Notice that we don't need the `csv` module.\n",
    "#     next(f)  # Skip the header row.\n",
    "#     cur.copy_from(f, tableName, sep=',') #copy_from doesn't support delimitor in quota    \n",
    "# con.commit()"
   ]
  },
  {
   "cell_type": "code",
   "execution_count": 143,
   "metadata": {},
   "outputs": [],
   "source": [
    "df=pd.read_csv(\"BLK_earlyLife_agingTrend.csv\", delimiter=',')\n",
    "col = df.columns"
   ]
  },
  {
   "cell_type": "code",
   "execution_count": 154,
   "metadata": {},
   "outputs": [],
   "source": [
    "style = {'description_width': 'initial'}\n",
    "RDFTerm = ['child','class', 'column', 'constant', 'datatype', 'graph', 'graphMap', \\\n",
    "            'inverseExpression', 'joinCondition', 'language', 'parent', 'parentTriplesMap', \\\n",
    "            'sqlVersion', 'termtype', 'template']\n",
    "tableClassTerm = ['sqlQuery', 'tableName']\n",
    "def inputInfo():\n",
    "    # set prefix\n",
    "    uniLayout = Layout(width='70%', height='30px')\n",
    "    \n",
    "    common = \"@prefix rr: <http://www.w3.org/ns/r2rml#>.\\n@prefix ex: <http://earlylifeagetrend.com/base#>.\"\n",
    "    prefixText = widgets.Textarea(value=common, description='Input Prefix', style=style,\\\n",
    "                                  layout=Layout(width='50%', height='100px'))\n",
    "\n",
    "    # set map name\n",
    "    common = '<#TriplesMap1>'\n",
    "    mapName = widgets.Text(value=common, description='Give a name to this Map: ', style=style,\\\n",
    "                                  layout=uniLayout)\n",
    "\n",
    "    # set name of logical table:\n",
    "    tableClass = widgets.Dropdown(options=tableClassTerm, layout=uniLayout, \\\n",
    "                                   description='Choose Table Type: ', style=style)\n",
    "    tableName = widgets.Textarea(value='SELECT * FROM EarlyLifeAgeTrend;', description='Table Name or SQL code:', \\\n",
    "                             layout=Layout(width='70%', height='70px'), style=style)\n",
    "    \n",
    "    # R2RML Properties\n",
    "    subRDFTermSet = widgets.Dropdown(options=RDFTerm, layout=uniLayout, \\\n",
    "                                   description='Choose a RDF Term: ', style=style)\n",
    "    \n",
    "    # set subjectMap\n",
    "    subWeb = widgets.Text(value='http://data.earlylifeagetrend.com/patient/', layout=uniLayout, \\\n",
    "                          description='Input your content:', style=style)\n",
    "    subClass = widgets.Dropdown(options=list(col), \\\n",
    "                                description='Choose subject from logical table: ', \\\n",
    "                                layout=uniLayout, \\\n",
    "                                style=style)\n",
    "    subName = widgets.Text(value='Patient', description='Give a name to this suject: ', \\\n",
    "                           layout=uniLayout, style=style)\n",
    "    \n",
    "    return prefixText, mapName, tableClass, tableName, subRDFTermSet, subWeb, subClass, subName\n",
    "\n",
    "def inputObj(flagB):\n",
    "    uniLayout = Layout(width='70%', height='30px')\n",
    "    # set predicateObjectMap:\n",
    "    objRDFTermSet = widgets.Dropdown(options=RDFTerm, layout=uniLayout, \\\n",
    "                                   description='Choose a RDF Term: ', style=style)\n",
    "    objWeb = widgets.Text(value='PregnancyTimes', layout=uniLayout, \\\n",
    "                          description='Give a name to this predicate: ', style=style)\n",
    "    objClass = widgets.Dropdown(options=list(col), layout=uniLayout, \\\n",
    "                                description='Choose object from logical table:', style=style)\n",
    "    objNum = widgets.Text(value='1', layout=uniLayout, description='Number of Objects(Only integer): ', \\\n",
    "                          style=style)\n",
    "    if flagB:\n",
    "        return objRDFTermSet, objWeb, objClass, objNum\n",
    "    else:\n",
    "        return objRDFTermSet, objWeb, objClass     "
   ]
  },
  {
   "cell_type": "code",
   "execution_count": 159,
   "metadata": {},
   "outputs": [
    {
     "data": {
      "application/vnd.jupyter.widget-view+json": {
       "model_id": "ad10b059ad7b4e4f803bd2420402d690",
       "version_major": 2,
       "version_minor": 0
      },
      "text/plain": [
       "A Jupyter Widget"
      ]
     },
     "metadata": {},
     "output_type": "display_data"
    },
    {
     "data": {
      "application/vnd.jupyter.widget-view+json": {
       "model_id": "271580c4da834b5a8ca4debd023fb67e",
       "version_major": 2,
       "version_minor": 0
      },
      "text/plain": [
       "A Jupyter Widget"
      ]
     },
     "metadata": {},
     "output_type": "display_data"
    },
    {
     "data": {
      "application/vnd.jupyter.widget-view+json": {
       "model_id": "fbc03bbd5ce34427b99fbac2633e1bd4",
       "version_major": 2,
       "version_minor": 0
      },
      "text/plain": [
       "A Jupyter Widget"
      ]
     },
     "metadata": {},
     "output_type": "display_data"
    },
    {
     "name": "stdout",
     "output_type": "stream",
     "text": [
      "******** Check the information you inputed ********\n",
      "@prefix rr: <http://www.w3.org/ns/r2rml#>.\n",
      "@prefix ex: <http://earlylifeagetrend.com/base#>.\n",
      "\n",
      "<#TableView> rr:sqlQuery \"\"\" SELECT * FROM EarlyLifeAgeTrend; \"\"\".\n",
      "\n",
      "<#TriplesMap1>\n",
      "\trr:logicalTable <#TableView>;\n",
      "\trr:subjectMap [\n",
      "\t\trr:template \"http://data.earlylifeagetrend.com/patient/{COUNTRY}\";\n",
      "\t\trr:class ex:country_study;\n",
      "\t];\n",
      "\trr:predicateObjectMap [\n",
      "\t\trr:predicate ex:has_enrolled;\n",
      "\t\trr:objectMap [ rr:template \"ID\" ];\n",
      "\t];\n",
      "\trr:predicateObjectMap [\n",
      "\t\trr:predicate ex:has_enrolled;\n",
      "\t\trr:objectMap [ rr:column \"ID\" ];\n",
      "\t].\n"
     ]
    }
   ],
   "source": [
    "prefixText, mapName, tableClass, tableName, subRDFTermSet, subWeb, subClass, subName = inputInfo()\n",
    "objRDFTermSet, objWeb, objClass, objNum = inputObj(True)\n",
    "para = [prefixText, mapName, tableName, subRDFTermSet, objRDFTermSet, subWeb, \\\n",
    "subClass, subName, objWeb, objClass]\n",
    "\n",
    "group1 = [mapName, tableClass, tableName]\n",
    "group2 = [subClass, subName, subRDFTermSet, subWeb]\n",
    "group3 = [objWeb, objRDFTermSet, objClass, objNum]\n",
    "\n",
    "box_layout = Layout(display='flex',\n",
    "                    flex_flow='column',\n",
    "                    align_items='stretch',\n",
    "                    width='70%')\n",
    "box_layout2 = Layout(display='flex',\n",
    "                    flex_flow='row',\n",
    "                    align_items='stretch',\n",
    "                    width='70%')\n",
    "box1 = Box(children=group1, layout=box_layout)\n",
    "box2 = Box(children=group2, layout=box_layout)\n",
    "box3 = Box(children=group3, layout=box_layout)\n",
    "\n",
    "steps = [prefixText, box1, box2, box3]\n",
    "tab = widgets.Tab(children=steps, style=style)\n",
    "tab.set_title(0, 'Step0--Prefix')\n",
    "tab.set_title(1, 'Step1--Name')\n",
    "tab.set_title(2, 'Step2--Subject')\n",
    "tab.set_title(3, 'Step3--Pre&Obj')\n",
    "    \n",
    "action = widgets.Dropdown(options=['Add More Objects', 'Check Info', 'Generate File'],\\\n",
    "                          description='Action: ', style=style)\n",
    "button = widgets.Button(description=\"RUN\", button_style='danger')\n",
    "boxACTION = Box(children=[action,button], layout=box_layout2)\n",
    "display(tab, boxACTION)\n",
    "\n",
    "add_objRDFTermSet=[None]*1000\n",
    "add_objWeb=[None]*1000\n",
    "add_objClass=[None]*1000\n",
    "saveButton=[None]*1000\n",
    "\n",
    "def actionFunction(x):\n",
    "    \n",
    "    if action.value == 'Add More Objects': \n",
    "        \n",
    "        for i in range(0, int(objNum.value)-1):\n",
    "            add_objRDFTermSet[i], add_objWeb[i], add_objClass[i] = inputObj(False) \n",
    "            saveButton[i] = widgets.Checkbox(value=False, \\\n",
    "                            description='I am sure to save this object', style=style)\n",
    "            group4 = [add_objWeb[i], add_objRDFTermSet[i], add_objClass[i], saveButton[i]]\n",
    "            add_box_layout = Layout(display='flex',\n",
    "                            flex_flow='column',\n",
    "                            border='solid',\n",
    "                            align_items='stretch',\n",
    "                            width='70%')\n",
    "            box4 = Box(children=group4, layout=add_box_layout)\n",
    "            display(box4)\n",
    "        \n",
    "    else:\n",
    "        flag = True\n",
    "        print('******** Check the information you inputed ********')\n",
    "        for p in para:\n",
    "            # check if all info were filled\n",
    "            if not p.value:\n",
    "                flag = False\n",
    "                print('Please input all information!')\n",
    "\n",
    "        if flag:\n",
    "            add_preObjMap = ''\n",
    "            tableView = '<#TableView> rr:sqlQuery \"\"\" %s \"\"\".'%tableName.value\n",
    "            logTable = 'rr:logicalTable <#TableView>;' \n",
    "            subMap = \"\"\"rr:subjectMap [\\n\\t\\trr:%s \"%s{%s}\";\\n\\t\\trr:class ex:%s;\\n\\t];\"\"\"\\\n",
    "            %(subRDFTermSet.value, subWeb.value, subClass.value, subName.value)\n",
    "            preObjMap = \"\"\"rr:predicateObjectMap [\\n\\t\\trr:predicate ex:%s;\\n\\t\\trr:objectMap [ rr:%s \"%s\" ];\\n\\t];\"\"\"%(objWeb.value, objRDFTermSet.value, objClass.value)\n",
    "            for i in range(0, int(objNum.value)-1):\n",
    "                if saveButton[i].value == True:\n",
    "                    preObjMap = preObjMap+\"\"\"\\n\\trr:predicateObjectMap [\\n\\t\\trr:predicate ex:%s;\\n\\t\\trr:objectMap [ rr:%s \"%s\" ];\\n\\t];\"\"\"%(add_objWeb[i].value, add_objRDFTermSet[i].value, add_objClass[i].value)\n",
    "                    \n",
    "            fullText = prefixText.value+'\\n\\n'+tableView+'\\n\\n'+mapName.value+'\\n\\t'+logTable+'\\n\\t'+subMap\\\n",
    "                        +'\\n\\t'+preObjMap[:-1]+'.'\n",
    "            if action.value=='Check Info':    \n",
    "                print(fullText)\n",
    "            if action.value=='Generate File':\n",
    "                write_text = open(\"R2RML.ttl\", \"w\")\n",
    "                write_text.write(fullText)\n",
    "                write_text.close()\n",
    "                print('Your file: ', os.getcwd())\n",
    "            \n",
    "# interact_manual(actionFunction, x=action);\n",
    "# doneButton.on_click(addObject)\n",
    "button.on_click(actionFunction)"
   ]
  },
  {
   "cell_type": "code",
   "execution_count": null,
   "metadata": {},
   "outputs": [],
   "source": [
    "\n",
    "# <http://data.VWDataRDF.com/MS/participant/Felic_Pryer>\n",
    "#         a                            ex:participant ;\n",
    "#         ex:diabetes_status_is        \"4\" ;\n",
    "#         ex:has_diabetes_for          \"0\" ;\n",
    "#         ex:has_measured              <http://data.VWDataRDF.com/MS/plasma_ages> , <http://data.VWDataRDF.com/MS/beta_Cell_Function> , <http://data.VWDataRDF.com/MS/diabetes_status> , <http://data.VWDataRDF.com/MS/neuropathy> , <http://data.VWDataRDF.com/MS/paid> , <http://data.VWDataRDF.com/MS/retinopathy>  , <http://data.VWDataRDF.com/MS/nephropathy> , <http://data.VWDataRDF.com/MS/newly_type2> , <http://data.VWDataRDF.com/MS/cardiovascular_health> , <http://data.VWDataRDF.com/MS/glucose_cpeptide_insulin> , <http://data.VWDataRDF.com/MS/diabetes_duration> ;\n",
    "#         ex:has_value_of_betaCellFunction\n",
    "#                 \"0.69999999\" ;\n",
    "#         ex:has_value_of_cardiovascular_health\n",
    "#                 \"4\" ;\n",
    "#         ex:has_value_of_insulin      \"13.9\" ;\n",
    "#         ex:has_value_of_nephropathy  \"3.5\"^^<http://www.w3.org/2001/XMLSchema#double> ;\n",
    "#         ex:has_value_of_neuropathy   \"6.5599999\"^^<http://www.w3.org/2001/XMLSchema#double> ;\n",
    "#         ex:has_value_of_newlytype2   \"1.11\"^^<http://www.w3.org/2001/XMLSchema#double> ;\n",
    "#         ex:has_value_of_paid         \"2.8800001\" ;\n",
    "#         ex:has_value_of_plasma       \"6.73\"^^<http://www.w3.org/2001/XMLSchema#double> ;\n",
    "#         ex:has_value_of_retinopathy  \"7.8299999\"^^<http://www.w3.org/2001/XMLSchema#double> ;\n",
    "#         ex:was_born_on               \"18/01/1977\" .\n",
    "\n",
    "# <http://data.VWDataRDF.com/MS/participant/Ramsey_Precious>\n",
    "#         a                            ex:participant ;\n",
    "#         ex:diabetes_status_is        \"1\" ;\n",
    "#         ex:has_diabetes_for          \"39\" ;\n",
    "#         ex:has_measured              <http://data.VWDataRDF.com/MS/nephropathy> , <http://data.VWDataRDF.com/MS/plasma_ages> , <http://data.VWDataRDF.com/MS/newly_type2> , <http://data.VWDataRDF.com/MS/paid> , <http://data.VWDataRDF.com/MS/diabetes_status>  , <http://data.VWDataRDF.com/MS/diabetes_duration> , <http://data.VWDataRDF.com/MS/beta_Cell_Function> , <http://data.VWDataRDF.com/MS/glucose_cpeptide_insulin> , <http://data.VWDataRDF.com/MS/neuropathy> , <http://data.VWDataRDF.com/MS/retinopathy> , <http://data.VWDataRDF.com/MS/cardiovascular_health> ;\n",
    "#         ex:has_value_of_betaCellFunction\n",
    "#                 \"10.48\" ;\n",
    "#         ex:has_value_of_cardiovascular_health\n",
    "#                 \"6\" ;\n",
    "#         ex:has_value_of_insulin      \"6.9299998\" ;\n",
    "#         ex:has_value_of_nephropathy  \"0.99000001\"^^<http://www.w3.org/2001/XMLSchema#double> ;\n",
    "#         ex:has_value_of_neuropathy   \"8.5799999\"^^<http://www.w3.org/2001/XMLSchema#double> ;\n",
    "#         ex:has_value_of_newlytype2   \"2.75\"^^<http://www.w3.org/2001/XMLSchema#double> ;\n",
    "#         ex:has_value_of_paid         \"23.27\" ;\n",
    "#         ex:has_value_of_plasma       \"4.9099998\"^^<http://www.w3.org/2001/XMLSchema#double> ;\n",
    "#         ex:has_value_of_retinopathy  \"0.97000003\"^^<http://www.w3.org/2001/XMLSchema#double> ;\n",
    "#         ex:was_born_on               \"03/07/1961\" .\n"
   ]
  }
 ],
 "metadata": {
  "kernelspec": {
   "display_name": "Python 3",
   "language": "python",
   "name": "python3"
  },
  "language_info": {
   "codemirror_mode": {
    "name": "ipython",
    "version": 3
   },
   "file_extension": ".py",
   "mimetype": "text/x-python",
   "name": "python",
   "nbconvert_exporter": "python",
   "pygments_lexer": "ipython3",
   "version": "3.6.2"
  }
 },
 "nbformat": 4,
 "nbformat_minor": 2
}
